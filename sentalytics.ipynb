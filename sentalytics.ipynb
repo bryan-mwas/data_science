{
 "cells": [
  {
   "cell_type": "code",
   "execution_count": 1,
   "metadata": {},
   "outputs": [
    {
     "name": "stdout",
     "output_type": "stream",
     "text": [
      "Results for SVC(kernel=rbf)\n",
      "Training time: 0.126516s; Prediction time: 0.014996s\n",
      "             precision    recall  f1-score   support\n",
      "\n",
      "   negative       0.75      0.77      0.76       218\n",
      "    neutral       0.80      0.84      0.82       294\n",
      "   positive       1.00      0.35      0.52        31\n",
      "\n",
      "avg / total       0.79      0.78      0.78       543\n",
      "\n",
      "accuracy:   0.781\n"
     ]
    }
   ],
   "source": [
    "import time\n",
    "import pandas as pd\n",
    "import numpy as np\n",
    "\n",
    "import preprocessing as pre\n",
    "\n",
    "from sklearn.model_selection import train_test_split\n",
    "from sklearn.feature_extraction.text import CountVectorizer\n",
    "from sklearn.pipeline import Pipeline\n",
    "from sklearn.feature_extraction.text import TfidfTransformer\n",
    "from sklearn.naive_bayes import MultinomialNB\n",
    "from sklearn.linear_model import SGDClassifier\n",
    "from sklearn.model_selection import GridSearchCV\n",
    "from sklearn.metrics import classification_report\n",
    "from sklearn import metrics\n",
    "\n",
    "if __name__ == '__main__':\n",
    "        # Access the csv file\n",
    "    df = pd.read_csv('.\\\\dataset\\\\labelled_tweets.csv', skipinitialspace=True, usecols=['text','polarity'])\n",
    "    df.dropna(how='any')\n",
    "\n",
    "    # print(type(df))\n",
    "    text = df['text']\n",
    "    label = df['polarity']\n",
    "\n",
    "    # Split the tweets in training and test set\n",
    "    def split_data(data):\n",
    "        # shuffle data\n",
    "        data.reindex(np.random.permutation(data.index))\n",
    "\n",
    "        # train, test data\n",
    "        train, test =train_test_split(data, test_size = 0.3)\n",
    "\n",
    "        train.to_csv(\".\\\\dataset\\\\train_data.csv\")\n",
    "        test.to_csv(\".\\\\dataset\\\\test_data.csv\")\n",
    "\n",
    "    split_data(df)\n",
    "\n",
    "    train = pd.read_csv(\".\\\\dataset\\\\train_data.csv\", skipinitialspace=True, encoding='latin1')\n",
    "    train_text = train['text']\n",
    "    train_label = train['polarity']\n",
    "\n",
    "    test = pd.read_csv(\".\\\\dataset\\\\test_data.csv\", skipinitialspace=True, encoding='latin1')\n",
    "    test_text = test['text']\n",
    "    test_label = test['polarity']\n",
    "\n",
    "    # Remove handles and hashtags\n",
    "    # TODO: Review removal of hyperlinks\n",
    "    def normalized_data(dataset):\n",
    "        cleaned_text = []\n",
    "        for index, item in enumerate(dataset.text):\n",
    "            if isinstance(item, str):\n",
    "                cleaned_text.append(pre.process_text(item))\n",
    "        return cleaned_text\n",
    "\n",
    "    def polarity(var):\n",
    "        polarity = []\n",
    "        for index, item in enumerate(var.polarity):\n",
    "            if isinstance(item, str):\n",
    "                polarity.append(pre.process_text(item))\n",
    "        return polarity\n",
    "\n",
    "\n",
    "    text_clf=Pipeline([('vect',CountVectorizer()),('tfidf',TfidfTransformer()),('clf',MultinomialNB())])\n",
    "    text_clf=text_clf.fit(normalized_data(train), polarity(train))\n",
    "\n",
    "    text_clf_svm = Pipeline([('vect', CountVectorizer()),('tfidf', TfidfTransformer()),('clf-svm', SGDClassifier(loss='hinge', penalty='l2',alpha=1e-3, max_iter=5, random_state=42)),])\n",
    "    t0 = time.time()\n",
    "    text_clf_svm=text_clf_svm.fit(normalized_data(train), polarity(train))\n",
    "    t1 = time.time()\n",
    "    predicted = text_clf_svm.predict(normalized_data(test))\n",
    "    t2 = time.time()\n",
    "    time_svm_train = t1-t0\n",
    "    time_svm_predict = t2-t1\n",
    "    np.mean(predicted == polarity(test))\n",
    "    \n",
    "    print(\"Results for SVC(kernel=rbf)\")\n",
    "    print(\"Training time: %fs; Prediction time: %fs\" % (time_svm_train, time_svm_predict))\n",
    "    print(classification_report(polarity(test), predicted))\n",
    "    score = metrics.accuracy_score(polarity(test), predicted)\n",
    "    print(\"accuracy:   %0.3f\" % score)\n",
    "    # parameters = {'vect__ngram_range': [(1, 1), (1, 2)],'tfidf__use_idf': (True, False),'clf__alpha': (1e-2, 1e-3),}\n",
    "\n",
    "    # gs_clf = GridSearchCV(text_clf, parameters, n_jobs=-1)\n",
    "    # gs_clf = gs_clf.fit(normalized_data(train), polarity(train))"
   ]
  },
  {
   "cell_type": "markdown",
   "metadata": {},
   "source": [
    "### Model Persistence"
   ]
  },
  {
   "cell_type": "code",
   "execution_count": 15,
   "metadata": {},
   "outputs": [
    {
     "data": {
      "text/plain": [
       "['text_clf_svm.pkl']"
      ]
     },
     "execution_count": 15,
     "metadata": {},
     "output_type": "execute_result"
    }
   ],
   "source": [
    "from sklearn.externals import joblib\n",
    "joblib.dump(text_clf_svm, 'text_clf_svm.pkl')"
   ]
  },
  {
   "cell_type": "code",
   "execution_count": 19,
   "metadata": {},
   "outputs": [
    {
     "data": {
      "text/plain": [
       "array(['positive'],\n",
       "      dtype='<U8')"
      ]
     },
     "execution_count": 19,
     "metadata": {},
     "output_type": "execute_result"
    }
   ],
   "source": [
    "classifier = joblib.load('text_clf_svm.pkl')\n",
    "classifier.predict(['thanks. i got it'])"
   ]
  },
  {
   "cell_type": "code",
   "execution_count": 3,
   "metadata": {},
   "outputs": [
    {
     "ename": "NameError",
     "evalue": "name 'gs_clf' is not defined",
     "output_type": "error",
     "traceback": [
      "\u001b[1;31m---------------------------------------------------------------------------\u001b[0m",
      "\u001b[1;31mNameError\u001b[0m                                 Traceback (most recent call last)",
      "\u001b[1;32m<ipython-input-3-b7ea62f9cab5>\u001b[0m in \u001b[0;36m<module>\u001b[1;34m()\u001b[0m\n\u001b[1;32m----> 1\u001b[1;33m \u001b[0mgs_clf\u001b[0m\u001b[1;33m.\u001b[0m\u001b[0mbest_score_\u001b[0m\u001b[1;33m\u001b[0m\u001b[0m\n\u001b[0m\u001b[0;32m      2\u001b[0m \u001b[0mgs_clf\u001b[0m\u001b[1;33m.\u001b[0m\u001b[0mbest_params_\u001b[0m\u001b[1;33m\u001b[0m\u001b[0m\n",
      "\u001b[1;31mNameError\u001b[0m: name 'gs_clf' is not defined"
     ]
    }
   ],
   "source": [
    "gs_clf.best_score_\n",
    "gs_clf.best_params_"
   ]
  },
  {
   "cell_type": "code",
   "execution_count": 14,
   "metadata": {},
   "outputs": [
    {
     "data": {
      "text/plain": [
       "array(['positive'],\n",
       "      dtype='<U8')"
      ]
     },
     "execution_count": 14,
     "metadata": {},
     "output_type": "execute_result"
    }
   ],
   "source": [
    "text_clf_svm.predict(['thanks. i got it'])"
   ]
  },
  {
   "cell_type": "code",
   "execution_count": null,
   "metadata": {},
   "outputs": [],
   "source": [
    "items = [0, 1, 2, 3, 4, 5, 6, 7, 8, 9, 10]\n",
    "for index, item in enumerate(items):\n",
    "    if not (item % 2):\n",
    "        items[index] = None\n",
    "print(items)"
   ]
  },
  {
   "cell_type": "code",
   "execution_count": null,
   "metadata": {},
   "outputs": [],
   "source": [
    "type(train)"
   ]
  },
  {
   "cell_type": "markdown",
   "metadata": {},
   "source": [
    "# Code goes here"
   ]
  },
  {
   "cell_type": "code",
   "execution_count": null,
   "metadata": {
    "collapsed": true
   },
   "outputs": [],
   "source": []
  }
 ],
 "metadata": {
  "kernelspec": {
   "display_name": "Python 3",
   "language": "python",
   "name": "python3"
  },
  "language_info": {
   "codemirror_mode": {
    "name": "ipython",
    "version": 3
   },
   "file_extension": ".py",
   "mimetype": "text/x-python",
   "name": "python",
   "nbconvert_exporter": "python",
   "pygments_lexer": "ipython3",
   "version": "3.6.2"
  }
 },
 "nbformat": 4,
 "nbformat_minor": 2
}
